{
 "cells": [
  {
   "cell_type": "code",
   "execution_count": 1,
   "metadata": {},
   "outputs": [],
   "source": [
    "from collections import defaultdict\n",
    "from rdkit import Chem\n",
    "\n",
    "START_PLACEHOLDER_MAP_FROM = 1000 # don't change"
   ]
  },
  {
   "cell_type": "code",
   "execution_count": 36,
   "metadata": {},
   "outputs": [],
   "source": [
    "def dict_of_lists_update(target_dict, source_dict):\n",
    "    for key, value in source_dict.items():\n",
    "        target_dict[key].extend(value)\n",
    "\n",
    "    return target_dict\n",
    "\n",
    "\n",
    "def delete_substructs(complete_mol, matched_atom_maps):\n",
    "\n",
    "    filtered_smiles = []\n",
    "    all_mols_smiles = Chem.MolToSmiles(complete_mol)\n",
    "    detached_mols_smiles = all_mols_smiles.split(\".\")\n",
    "    substruct_smiles = None\n",
    "\n",
    "    for mol_smiles in detached_mols_smiles:\n",
    "        mol = Chem.MolFromSmiles(mol_smiles)\n",
    "\n",
    "        atom_maps = [atom.GetAtomMapNum() for atom in mol.GetAtoms()]\n",
    "        if set(atom_maps) == matched_atom_maps:\n",
    "            substruct_smiles = mol_smiles\n",
    "        else:\n",
    "            filtered_smiles.append(mol_smiles)\n",
    "\n",
    "    filtered_smiles = '.'.join(filtered_smiles)\n",
    "    filtered_mol = Chem.RWMol(Chem.MolFromSmiles(filtered_smiles))\n",
    "    return filtered_mol, substruct_smiles\n"
   ]
  },
  {
   "cell_type": "code",
   "execution_count": 37,
   "metadata": {},
   "outputs": [],
   "source": [
    "def simplify_substructs(mol, all_maccs_smarts, ):\n",
    "\n",
    "    curr_placeholder_map_num = START_PLACEHOLDER_MAP_FROM\n",
    "    all_bonds_for_reconstruction = defaultdict(list)\n",
    "    placeholder_to_substruct_dict = dict()\n",
    "\n",
    "    mol = Chem.RWMol(mol) # make editable\n",
    "\n",
    "    for maccs_smart in all_maccs_smarts:\n",
    "\n",
    "        pattern = Chem.MolFromSmarts(maccs_smart)\n",
    "        match_tuple = mol.GetSubstructMatch(pattern)\n",
    "\n",
    "        while match_tuple:\n",
    "\n",
    "            bonds_to_remove = []\n",
    "            bonds_to_add_back = dict()\n",
    "\n",
    "            matched_atom_maps = set()\n",
    "            matched_atom_ids = set(match_tuple)\n",
    "            bonds_for_reconstruction = defaultdict(list)\n",
    "\n",
    "            for subs_atom_id in match_tuple:\n",
    "                subs_atom = mol.GetAtomWithIdx(subs_atom_id)\n",
    "                matched_atom_maps.add(subs_atom.GetAtomMapNum())\n",
    "\n",
    "                for nbr_atom in subs_atom.GetNeighbors():\n",
    "\n",
    "                    if nbr_atom.GetIdx() in matched_atom_ids:\n",
    "                        continue\n",
    "\n",
    "                    bond_type = mol.GetBondBetweenAtoms(nbr_atom.GetIdx(), subs_atom_id).GetBondType()\n",
    "                    bonds_to_remove.append((nbr_atom, subs_atom, bond_type))\n",
    "                    bonds_to_add_back[nbr_atom.GetAtomMapNum()] = bond_type\n",
    "\n",
    "                    if nbr_atom.GetAtomMapNum() < START_PLACEHOLDER_MAP_FROM:\n",
    "                        bonds_for_reconstruction[nbr_atom.GetAtomMapNum()].append((subs_atom.GetAtomMapNum(), bond_type))\n",
    "                        bonds_for_reconstruction[subs_atom.GetAtomMapNum()].append((nbr_atom.GetAtomMapNum(), bond_type))\n",
    "\n",
    "            # disconnect substructure from neighbors\n",
    "            for (nbr_atom, subs_atom, bond_type)  in bonds_to_remove:\n",
    "\n",
    "                nbr_atom_explicit_Hs = nbr_atom.GetNumExplicitHs()\n",
    "                subs_atom_explicit_Hs = subs_atom.GetNumExplicitHs()\n",
    "                mol.RemoveBond(nbr_atom.GetIdx(), subs_atom.GetIdx())\n",
    "\n",
    "                nbr_atom.SetNumExplicitHs(nbr_atom_explicit_Hs + int(bond_type))\n",
    "                subs_atom.SetNumExplicitHs(subs_atom_explicit_Hs + int(bond_type))\n",
    "\n",
    "            # deleting substructure match\n",
    "            mol, substruct_smiles = delete_substructs(mol, matched_atom_maps)\n",
    "\n",
    "            # for reconstruction\n",
    "            all_bonds_for_reconstruction = dict_of_lists_update(all_bonds_for_reconstruction, bonds_for_reconstruction)\n",
    "            placeholder_to_substruct_dict[curr_placeholder_map_num] = substruct_smiles\n",
    "\n",
    "            # replacing substructure with placeholder\n",
    "            placeholder_atom = Chem.Atom('*')\n",
    "            placeholder_atom.SetAtomMapNum(curr_placeholder_map_num)\n",
    "            curr_placeholder_map_num += 1\n",
    "            placeholder_atom_id = mol.AddAtom(placeholder_atom)\n",
    "\n",
    "            # after DeleteSubstructs, atom indices will be changed but atom maps will be the same\n",
    "            # hence, we have to make use of atom map numbers after delete (as used in bonds_to_add_back)\n",
    "            for atom in mol.GetAtoms():\n",
    "                if atom.GetAtomMapNum() in bonds_to_add_back:\n",
    "                    explicit_Hs = atom.GetNumExplicitHs()\n",
    "                    mol.AddBond(placeholder_atom_id, atom.GetIdx(), bonds_to_add_back[atom.GetAtomMapNum()])\n",
    "                    atom.SetNumExplicitHs(explicit_Hs - bonds_to_add_back[atom.GetAtomMapNum()])\n",
    "\n",
    "            match_tuple = mol.GetSubstructMatch(pattern)\n",
    "            # Possible improvement: use GetSubstructureMatches() and do one\n",
    "            # deletion for each match of the current maccs_smart.\n",
    "\n",
    "    return mol, placeholder_to_substruct_dict, all_bonds_for_reconstruction\n"
   ]
  },
  {
   "cell_type": "code",
   "execution_count": 38,
   "metadata": {},
   "outputs": [],
   "source": [
    "import re\n",
    "\n",
    "def expand_substructs(simplified_mol, placeholder_to_substruct_dict, all_bonds_for_reconstruction):\n",
    "\n",
    "    # remove connections with placeholder atoms\n",
    "    for atom in simplified_mol.GetAtoms():\n",
    "        if atom.GetSymbol() == '*':\n",
    "            for nbr_atom in atom.GetNeighbors():\n",
    "                bond_type = simplified_mol.GetBondBetweenAtoms(atom.GetIdx(), nbr_atom.GetIdx()).GetBondType()\n",
    "                explicit_Hs = nbr_atom.GetNumExplicitHs()\n",
    "                simplified_mol.RemoveBond(nbr_atom.GetIdx(), atom.GetIdx())\n",
    "                if nbr_atom.GetSymbol() != '*':\n",
    "                    nbr_atom.SetNumExplicitHs(explicit_Hs + int(bond_type))\n",
    "\n",
    "    all_mols_smiles = Chem.MolToSmiles(simplified_mol)\n",
    "    detached_smiles = all_mols_smiles.split('.')\n",
    "    regex_pattern = re.compile(\"(\\[\\*:)[1-9][0-9][0-9][0-9]\\]\")\n",
    "    expanded_smiles = []\n",
    "\n",
    "    # remove connections with placeholder atoms\n",
    "    for mol_smiles in detached_smiles:\n",
    "        if regex_pattern.fullmatch(mol_smiles):\n",
    "            placeholder_map = int(mol_smiles[3:-1])\n",
    "            substruct_smiles = placeholder_to_substruct_dict[placeholder_map]\n",
    "            expanded_smiles.append(substruct_smiles)\n",
    "        else:\n",
    "            expanded_smiles.append(mol_smiles)\n",
    "\n",
    "    expanded_smiles = '.'.join(expanded_smiles)\n",
    "    complete_mol = Chem.MolFromSmiles(expanded_smiles)\n",
    "    complete_mol = Chem.RWMol(complete_mol)\n",
    "\n",
    "    # make connections\n",
    "    atom_map_to_atom_dict = dict()\n",
    "    for atom in complete_mol.GetAtoms():\n",
    "        atom_map_to_atom_dict[atom.GetAtomMapNum()] = atom\n",
    "\n",
    "    made_connections = set()\n",
    "    for atom in complete_mol.GetAtoms():\n",
    "\n",
    "        atom_idx = atom.GetIdx()\n",
    "        atom_map_num = atom.GetAtomMapNum()\n",
    "        nbr_atoms_to_connect = all_bonds_for_reconstruction[atom_map_num]\n",
    "\n",
    "        for (nbr_atom_map_num, bond_type) in nbr_atoms_to_connect:\n",
    "\n",
    "            if ((nbr_atom_map_num, atom_map_num) in made_connections\n",
    "                or (atom_map_num, nbr_atom_map_num) in made_connections):\n",
    "                continue\n",
    "\n",
    "            nbr_atom = atom_map_to_atom_dict[nbr_atom_map_num]\n",
    "            atom_explicit_Hs = atom.GetNumExplicitHs()\n",
    "            nbr_atom_explicit_Hs = nbr_atom.GetNumExplicitHs()\n",
    "\n",
    "            complete_mol.AddBond(atom_idx, nbr_atom.GetIdx(), bond_type)\n",
    "            atom.SetNumExplicitHs(atom_explicit_Hs - int(bond_type))\n",
    "            nbr_atom.SetNumExplicitHs(nbr_atom_explicit_Hs - int(bond_type))\n",
    "\n",
    "            made_connections.add((atom_map_num, nbr_atom_map_num))\n",
    "\n",
    "    return complete_mol"
   ]
  },
  {
   "cell_type": "code",
   "execution_count": 39,
   "metadata": {},
   "outputs": [
    {
     "data": {
      "image/png": "[encoded data removed]",
      "text/plain": [
       "<rdkit.Chem.rdchem.Mol at 0x240a9e897b0>"
      ]
     },
     "execution_count": 39,
     "metadata": {},
     "output_type": "execute_result"
    }
   ],
   "source": [
    "mol_smiles = \"[O:1]=[CH:2][O:3][O:4][CH:5]=[O:6]\"\n",
    "# mol_smiles = \"[O:1]=[CH:2][c:3]1[cH:4][cH:5][cH:6][c:7](-[c:8]2[cH:9][cH:10][c:11]([Cl:12])[cH:13][cH:14]2)[cH:15]1\"\n",
    "mol = Chem.MolFromSmiles(mol_smiles)\n",
    "\n",
    "all_maccs_smarts = ['O=CO', 'N=CO', 'c1ccccc1'] # define\n",
    "\n",
    "mol"
   ]
  },
  {
   "cell_type": "code",
   "execution_count": 40,
   "metadata": {},
   "outputs": [
    {
     "data": {
      "image/png": "[encoded data removed]",
      "text/plain": [
       "<rdkit.Chem.rdchem.RWMol at 0x240a97b92b0>"
      ]
     },
     "execution_count": 40,
     "metadata": {},
     "output_type": "execute_result"
    }
   ],
   "source": [
    "mol, placeholder_to_substruct_dict, all_bonds_for_reconstruction = simplify_substructs(mol, all_maccs_smarts)\n",
    "mol"
   ]
  },
  {
   "cell_type": "code",
   "execution_count": 41,
   "metadata": {},
   "outputs": [
    {
     "data": {
      "image/png": "[encoded data removed]",
      "text/plain": [
       "<rdkit.Chem.rdchem.RWMol at 0x240a98d20f0>"
      ]
     },
     "execution_count": 41,
     "metadata": {},
     "output_type": "execute_result"
    }
   ],
   "source": [
    "recon_mol = expand_substructs(mol, placeholder_to_substruct_dict, all_bonds_for_reconstruction)\n",
    "recon_mol"
   ]
  },
  {
   "cell_type": "code",
   "execution_count": 2,
   "metadata": {},
   "outputs": [
    {
     "data": {
      "image/png": "[encoded data removed]",
      "text/plain": [
       "<rdkit.Chem.rdchem.Mol at 0x232dd582850>"
      ]
     },
     "execution_count": 2,
     "metadata": {},
     "output_type": "execute_result"
    }
   ],
   "source": [
    "mol_smiles = \"[O:1]=[CH:2][O:3][O:4][CH:5]=[O:6]\"\n",
    "mol = Chem.MolFromSmiles(mol_smiles)\n",
    "mol"
   ]
  },
  {
   "cell_type": "code",
   "execution_count": 3,
   "metadata": {},
   "outputs": [
    {
     "data": {
      "text/plain": [
       "'C'"
      ]
     },
     "execution_count": 3,
     "metadata": {},
     "output_type": "execute_result"
    }
   ],
   "source": [
    "mol.GetAtomWithIdx(4).GetSymbol()"
   ]
  },
  {
   "cell_type": "code",
   "execution_count": 4,
   "metadata": {},
   "outputs": [
    {
     "ename": "ArgumentError",
     "evalue": "Python argument types in\n    Mol.GetBondBetweenAtoms(Mol, int, NoneType)\ndid not match C++ signature:\n    GetBondBetweenAtoms(class RDKit::ROMol {lvalue}, unsigned int, unsigned int)",
     "output_type": "error",
     "traceback": [
      "\u001b[1;31m---------------------------------------------------------------------------\u001b[0m",
      "\u001b[1;31mArgumentError\u001b[0m                             Traceback (most recent call last)",
      "\u001b[1;32m~\\AppData\\Local\\Temp\\ipykernel_12316\\2080810184.py\u001b[0m in \u001b[0;36m<module>\u001b[1;34m\u001b[0m\n\u001b[1;32m----> 1\u001b[1;33m \u001b[0mprint\u001b[0m\u001b[1;33m(\u001b[0m\u001b[0mmol\u001b[0m\u001b[1;33m.\u001b[0m\u001b[0mGetBondBetweenAtoms\u001b[0m\u001b[1;33m(\u001b[0m\u001b[1;36m1\u001b[0m\u001b[1;33m,\u001b[0m \u001b[1;32mNone\u001b[0m\u001b[1;33m)\u001b[0m\u001b[1;33m)\u001b[0m\u001b[1;33m\u001b[0m\u001b[1;33m\u001b[0m\u001b[0m\n\u001b[0m",
      "\u001b[1;31mArgumentError\u001b[0m: Python argument types in\n    Mol.GetBondBetweenAtoms(Mol, int, NoneType)\ndid not match C++ signature:\n    GetBondBetweenAtoms(class RDKit::ROMol {lvalue}, unsigned int, unsigned int)"
     ]
    }
   ],
   "source": [
    "print(mol.GetBondBetweenAtoms(1, None))"
   ]
  },
  {
   "cell_type": "code",
   "execution_count": 5,
   "metadata": {},
   "outputs": [
    {
     "data": {
      "text/plain": [
       "6"
      ]
     },
     "execution_count": 5,
     "metadata": {},
     "output_type": "execute_result"
    }
   ],
   "source": [
    "mol.GetNumAtoms()"
   ]
  },
  {
   "cell_type": "code",
   "execution_count": null,
   "metadata": {},
   "outputs": [],
   "source": []
  }
 ],
 "metadata": {
  "interpreter": {
   "hash": "634a298614d2229219ae4b4e1d68bdd1baf375b702ef1cd3fc0ea01cb98c34a8"
  },
  "kernelspec": {
   "display_name": "Python 3.6.13 ('nerf')",
   "language": "python",
   "name": "python3"
  },
  "language_info": {
   "codemirror_mode": {
    "name": "ipython",
    "version": 3
   },
   "file_extension": ".py",
   "mimetype": "text/x-python",
   "name": "python",
   "nbconvert_exporter": "python",
   "pygments_lexer": "ipython3",
   "version": "3.7.11"
  },
  "orig_nbformat": 4
 },
 "nbformat": 4,
 "nbformat_minor": 2
}
