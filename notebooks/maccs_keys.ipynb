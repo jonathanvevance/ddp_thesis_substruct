{
 "cells": [
  {
   "cell_type": "code",
   "execution_count": 6,
   "metadata": {},
   "outputs": [],
   "source": [
    "from tqdm import tqdm\n",
    "from collections import Counter\n",
    "from rdkit import Chem\n",
    "from MACCSkeys import smartsPatts"
   ]
  },
  {
   "cell_type": "code",
   "execution_count": 9,
   "metadata": {},
   "outputs": [
    {
     "name": "stderr",
     "output_type": "stream",
     "text": [
      "100%|██████████| 409035/409035 [34:24<00:00, 198.16it/s]\n"
     ]
    }
   ],
   "source": [
    "rxncounts_per_key = Counter()\n",
    "maccs_keys_to_skip = set([1, 44, 125, 166])\n",
    "\n",
    "num_rxns = sum(1 for line in open(\"../data/raw/train.txt\", \"r\"))\n",
    "\n",
    "with open(\"../data/raw/train.txt\", \"r\") as train_dataset:\n",
    "    for reaction in tqdm(train_dataset, total = num_rxns):\n",
    "\n",
    "        lhs, rhs = reaction.split(\">>\")\n",
    "        lhs_mol = Chem.MolFromSmiles(lhs)\n",
    "        rhs_mol = Chem.MolFromSmiles(rhs)\n",
    "\n",
    "        for maccs_key in smartsPatts:\n",
    "\n",
    "            if maccs_key in maccs_keys_to_skip:\n",
    "                continue\n",
    "\n",
    "            maccs_smarts = smartsPatts[maccs_key][0]\n",
    "            maccs_pattern = Chem.MolFromSmarts(maccs_smarts)\n",
    "\n",
    "            if not maccs_pattern:\n",
    "                print(maccs_smarts, maccs_key)\n",
    "\n",
    "            if (lhs_mol.HasSubstructMatch(maccs_pattern)\n",
    "                or rhs_mol.HasSubstructMatch(maccs_pattern)):\n",
    "                rxncounts_per_key.update({maccs_key: 1})\n"
   ]
  },
  {
   "cell_type": "code",
   "execution_count": 11,
   "metadata": {},
   "outputs": [],
   "source": [
    "import pickle\n",
    "\n",
    "# Store data (serialize)\n",
    "with open('rxncounts_per_key.pickle', 'wb') as handle:\n",
    "    pickle.dump(rxncounts_per_key, handle, protocol=pickle.HIGHEST_PROTOCOL)"
   ]
  },
  {
   "cell_type": "code",
   "execution_count": null,
   "metadata": {},
   "outputs": [],
   "source": []
  }
 ],
 "metadata": {
  "interpreter": {
   "hash": "9ed03919e7cf91f8e09534ee7307c04a53ba4439cdea0992e71c027d907c7838"
  },
  "kernelspec": {
   "display_name": "Python 3.7.11 ('ddp_thesis')",
   "language": "python",
   "name": "python3"
  },
  "language_info": {
   "codemirror_mode": {
    "name": "ipython",
    "version": 3
   },
   "file_extension": ".py",
   "mimetype": "text/x-python",
   "name": "python",
   "nbconvert_exporter": "python",
   "pygments_lexer": "ipython3",
   "version": "3.7.11"
  },
  "orig_nbformat": 4
 },
 "nbformat": 4,
 "nbformat_minor": 2
}
