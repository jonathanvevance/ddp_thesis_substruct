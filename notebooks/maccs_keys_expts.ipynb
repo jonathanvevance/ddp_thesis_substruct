{
 "cells": [
  {
   "cell_type": "code",
   "execution_count": 2,
   "metadata": {},
   "outputs": [],
   "source": [
    "from tqdm import tqdm\n",
    "from collections import Counter, defaultdict\n",
    "from rdkit import Chem\n",
    "from MACCSkeys import smartsPatts"
   ]
  },
  {
   "cell_type": "markdown",
   "metadata": {},
   "source": [
    "##### Checking #occurrences of each MACCS key"
   ]
  },
  {
   "cell_type": "code",
   "execution_count": 2,
   "metadata": {},
   "outputs": [],
   "source": [
    "if False:\n",
    "    rxncounts_per_key = Counter()\n",
    "    maccs_keys_to_skip = set([1, 44, 125, 166])\n",
    "\n",
    "    num_rxns = sum(1 for line in open(\"../data/raw/train.txt\", \"r\"))\n",
    "\n",
    "    with open(\"../data/raw/train.txt\", \"r\") as train_dataset:\n",
    "        for reaction in tqdm(train_dataset, total = num_rxns):\n",
    "\n",
    "            lhs, rhs = reaction.split(\">>\")\n",
    "            lhs_mol = Chem.MolFromSmiles(lhs)\n",
    "            rhs_mol = Chem.MolFromSmiles(rhs)\n",
    "\n",
    "            for maccs_key in smartsPatts:\n",
    "\n",
    "                if maccs_key in maccs_keys_to_skip:\n",
    "                    continue\n",
    "\n",
    "                maccs_smarts = smartsPatts[maccs_key][0]\n",
    "                maccs_pattern = Chem.MolFromSmarts(maccs_smarts)\n",
    "\n",
    "                if (lhs_mol.HasSubstructMatch(maccs_pattern)\n",
    "                    or rhs_mol.HasSubstructMatch(maccs_pattern)):\n",
    "                    rxncounts_per_key.update({maccs_key: 1})\n",
    "\n",
    "    import pickle\n",
    "\n",
    "    # Store data (serialize)\n",
    "    with open('rxncounts_per_key.pickle', 'wb') as handle:\n",
    "        pickle.dump(rxncounts_per_key, handle, protocol=pickle.HIGHEST_PROTOCOL)\n"
   ]
  },
  {
   "cell_type": "markdown",
   "metadata": {},
   "source": [
    "##### Checking if every reaction has a MACCS key"
   ]
  },
  {
   "cell_type": "code",
   "execution_count": 3,
   "metadata": {},
   "outputs": [
    {
     "name": "stderr",
     "output_type": "stream",
     "text": [
      "100%|██████████| 409035/409035 [08:49<00:00, 772.95it/s]\n"
     ]
    }
   ],
   "source": [
    "if False:\n",
    "    n_valid_reactions = 0\n",
    "    maccs_keys_to_skip = set([1, 44, 125, 166])\n",
    "\n",
    "    num_rxns = sum(1 for line in open(\"../data/raw/train.txt\", \"r\"))\n",
    "\n",
    "    with open(\"../data/raw/train.txt\", \"r\") as train_dataset:\n",
    "        for reaction in tqdm(train_dataset, total = num_rxns):\n",
    "\n",
    "            lhs, rhs = reaction.split(\">>\")\n",
    "            lhs_mol = Chem.MolFromSmiles(lhs)\n",
    "            rhs_mol = Chem.MolFromSmiles(rhs)\n",
    "\n",
    "            lhs_found = False\n",
    "            rhs_found = False\n",
    "\n",
    "            for maccs_key in smartsPatts:\n",
    "\n",
    "                if maccs_key in maccs_keys_to_skip:\n",
    "                    continue\n",
    "\n",
    "                maccs_smarts = smartsPatts[maccs_key][0]\n",
    "                maccs_pattern = Chem.MolFromSmarts(maccs_smarts)\n",
    "\n",
    "                if lhs_found and rhs_found:\n",
    "                    break\n",
    "\n",
    "                if not lhs_found:\n",
    "                    if lhs_mol.HasSubstructMatch(maccs_pattern):\n",
    "                        lhs_found = True\n",
    "\n",
    "                if not rhs_found:\n",
    "                    if rhs_mol.HasSubstructMatch(maccs_pattern):\n",
    "                        rhs_found = True\n",
    "\n",
    "            if lhs_found and rhs_found:\n",
    "                n_valid_reactions += 1\n",
    "\n",
    "\n",
    "    valid_rxn_stats = {\n",
    "        'n_valid_reactions': n_valid_reactions,\n",
    "        'total_reactions': num_rxns,\n",
    "    }\n",
    "\n",
    "    import pickle\n",
    "\n",
    "    # Store data (serialize)\n",
    "    with open('valid_rxn_stats.pickle', 'wb') as handle:\n",
    "        pickle.dump(valid_rxn_stats, handle, protocol=pickle.HIGHEST_PROTOCOL)\n",
    "\n",
    "    print(num_rxns - n_valid_reactions) # 0\n"
   ]
  },
  {
   "cell_type": "markdown",
   "metadata": {},
   "source": [
    "##### Checking if every reaction is a MACCS transformation (only LHS)"
   ]
  },
  {
   "cell_type": "code",
   "execution_count": 4,
   "metadata": {},
   "outputs": [
    {
     "name": "stderr",
     "output_type": "stream",
     "text": [
      "100%|██████████| 409035/409035 [41:57<00:00, 162.50it/s] \n"
     ]
    }
   ],
   "source": [
    "if False:\n",
    "    n_assumption_true_rxns = 0\n",
    "    maccs_keys_to_skip = set([1, 44, 125, 166])\n",
    "\n",
    "    num_rxns = sum(1 for line in open(\"../data/raw/train.txt\", \"r\"))\n",
    "\n",
    "    with open(\"../data/raw/train.txt\", \"r\") as train_dataset:\n",
    "        for reaction in tqdm(train_dataset, total = num_rxns):\n",
    "\n",
    "            lhs, rhs = reaction.split(\">>\")\n",
    "            lhs_mol = Chem.MolFromSmiles(lhs)\n",
    "            rhs_mol = Chem.MolFromSmiles(rhs)\n",
    "\n",
    "            # get maccs matched atom maps\n",
    "            all_maccs_atom_maps = set()\n",
    "            for maccs_key in smartsPatts:\n",
    "\n",
    "                if maccs_key in maccs_keys_to_skip:\n",
    "                    continue\n",
    "\n",
    "                maccs_smarts = smartsPatts[maccs_key][0]\n",
    "                maccs_pattern = Chem.MolFromSmarts(maccs_smarts)\n",
    "\n",
    "                match_tuples_list = lhs_mol.GetSubstructMatches(maccs_pattern)\n",
    "                for match_tuple in match_tuples_list:\n",
    "                    for atom_id in match_tuple:\n",
    "                        atom = lhs_mol.GetAtomWithIdx(atom_id)\n",
    "                        all_maccs_atom_maps.add(atom.GetAtomMapNum())\n",
    "\n",
    "            # find bonds changed atom map numbers\n",
    "            lhs_amap_to_nbr_amaps = defaultdict(set)\n",
    "            rhs_amap_to_nbr_amaps = defaultdict(set)\n",
    "\n",
    "            for atom in lhs_mol.GetAtoms():\n",
    "                atom_map = atom.GetAtomMapNum()\n",
    "                for nbr_atom in atom.GetNeighbors():\n",
    "                    lhs_amap_to_nbr_amaps[atom_map].add(nbr_atom.GetAtomMapNum())\n",
    "\n",
    "            for atom in rhs_mol.GetAtoms():\n",
    "                atom_map = atom.GetAtomMapNum()\n",
    "                for nbr_atom in atom.GetNeighbors():\n",
    "                    rhs_amap_to_nbr_amaps[atom_map].add(nbr_atom.GetAtomMapNum())\n",
    "\n",
    "            # check if bonds changed atoms are all maccs matched atoms\n",
    "            rxn_valid = True\n",
    "            for atom_map in lhs_amap_to_nbr_amaps:\n",
    "                if lhs_amap_to_nbr_amaps[atom_map] != rhs_amap_to_nbr_amaps[atom_map]:\n",
    "                    if atom_map not in all_maccs_atom_maps:\n",
    "                        rxn_valid = False\n",
    "                        break\n",
    "\n",
    "            if rxn_valid:\n",
    "                n_assumption_true_rxns += 1\n",
    "\n",
    "    import pickle\n",
    "\n",
    "    rxn_assumptions_stats = {\n",
    "        \"n_assumption_true_rxns\": n_assumption_true_rxns,\n",
    "        \"num_rxns\": num_rxns,\n",
    "    }\n",
    "\n",
    "    # Store data (serialize)\n",
    "    with open('rxn_assumptions_stats.pickle', 'wb') as handle:\n",
    "        pickle.dump(rxn_assumptions_stats, handle, protocol=pickle.HIGHEST_PROTOCOL)\n",
    "\n",
    "    n_assumption_true_rxns # 402536\n"
   ]
  },
  {
   "cell_type": "code",
   "execution_count": null,
   "metadata": {},
   "outputs": [],
   "source": []
  }
 ],
 "metadata": {
  "interpreter": {
   "hash": "9ed03919e7cf91f8e09534ee7307c04a53ba4439cdea0992e71c027d907c7838"
  },
  "kernelspec": {
   "display_name": "Python 3.7.11 ('ddp_thesis')",
   "language": "python",
   "name": "python3"
  },
  "language_info": {
   "codemirror_mode": {
    "name": "ipython",
    "version": 3
   },
   "file_extension": ".py",
   "mimetype": "text/x-python",
   "name": "python",
   "nbconvert_exporter": "python",
   "pygments_lexer": "ipython3",
   "version": "3.7.11"
  },
  "orig_nbformat": 4
 },
 "nbformat": 4,
 "nbformat_minor": 2
}
