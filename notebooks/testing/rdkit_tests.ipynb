{
 "cells": [
  {
   "cell_type": "code",
   "execution_count": 206,
   "metadata": {},
   "outputs": [],
   "source": [
    "from rdkit import Chem\n",
    "\n",
    "def delete_substructs(full_mol, matched_atom_maps):\n",
    "\n",
    "    filtered_smiles = []\n",
    "    all_mols_smiles = Chem.MolToSmiles(full_mol)\n",
    "    detached_mols_smiles = all_mols_smiles.split(\".\")\n",
    "    substruct_smiles = None\n",
    "\n",
    "    for mol_smiles in detached_mols_smiles:\n",
    "        mol = Chem.MolFromSmiles(mol_smiles)\n",
    "\n",
    "        atom_maps = [atom.GetAtomMapNum() for atom in mol.GetAtoms()]\n",
    "        if set(atom_maps) == matched_atom_maps:\n",
    "            substruct_smiles = mol_smiles\n",
    "        else:\n",
    "            filtered_smiles.append(mol_smiles)\n",
    "\n",
    "    filtered_smiles = '.'.join(filtered_smiles)\n",
    "    filtered_mol = Chem.RWMol(Chem.MolFromSmiles(filtered_smiles))\n",
    "    substruct_mol = Chem.MolFromSmiles(substruct_smiles)\n",
    "    return filtered_mol, substruct_mol\n"
   ]
  },
  {
   "cell_type": "code",
   "execution_count": 211,
   "metadata": {},
   "outputs": [
    {
     "name": "stdout",
     "output_type": "stream",
     "text": [
      "[*:999][*:1000]\n"
     ]
    }
   ],
   "source": [
    "#! TESTING\n",
    "START_PLACEHOLDER_MAP_FROM = 999\n",
    "curr_placeholder_map_num = START_PLACEHOLDER_MAP_FROM\n",
    "\n",
    "mol_smiles = \"O=COOC=O\"\n",
    "# mol_smiles = \"O=Cc2cccc(c1ccc(Cl)cc1)c2\"\n",
    "mol = Chem.MolFromSmiles(mol_smiles)\n",
    "mol = Chem.RWMol(mol) # make editable\n",
    "\n",
    "all_bonds_removed_map2map = []\n",
    "placeholder_to_substruct_mol = dict()\n",
    "\n",
    "# add some atom map indices\n",
    "for i, atom in enumerate(mol.GetAtoms()):\n",
    "    atom.SetAtomMapNum(i+1)\n",
    "\n",
    "all_maccs_smarts = ['O=CO', 'N=CO', 'c1ccccc1'] # define\n",
    "for maccs_smart in all_maccs_smarts:\n",
    "\n",
    "    pattern = Chem.MolFromSmarts(maccs_smart)\n",
    "    match_tuple = mol.GetSubstructMatch(pattern)\n",
    "\n",
    "    while match_tuple:\n",
    "\n",
    "        bonds_to_remove = []\n",
    "        bonds_to_add_back = dict()\n",
    "        substruct_found = True\n",
    "\n",
    "        matched_atom_maps = set()\n",
    "        matched_atom_ids = set(match_tuple)\n",
    "        bonds_removed = []\n",
    "\n",
    "        for subs_atom_id in match_tuple:\n",
    "            subs_atom = mol.GetAtomWithIdx(subs_atom_id)\n",
    "            matched_atom_maps.add(subs_atom.GetAtomMapNum())\n",
    "\n",
    "            for nbr_atom in subs_atom.GetNeighbors():\n",
    "\n",
    "                if nbr_atom.GetIdx() in matched_atom_ids:\n",
    "                    continue\n",
    "\n",
    "                bond_type = mol.GetBondBetweenAtoms(nbr_atom.GetIdx(), subs_atom_id).GetBondType()\n",
    "                bonds_to_remove.append((nbr_atom, subs_atom_id, bond_type))\n",
    "                bonds_to_add_back[nbr_atom.GetAtomMapNum()] = bond_type\n",
    "                bonds_removed.append((nbr_atom.GetAtomMapNum(), subs_atom.GetAtomMapNum()))\n",
    "\n",
    "        # disconnect substructure from neighbors\n",
    "        for (nbr_atom, subs_atom_id, bond_type)  in bonds_to_remove:\n",
    "            explicit_Hs = nbr_atom.GetNumExplicitHs()\n",
    "            mol.RemoveBond(nbr_atom.GetIdx(), subs_atom_id)\n",
    "            nbr_atom.SetNumExplicitHs(explicit_Hs + int(bond_type))\n",
    "\n",
    "        # deleting substructure match\n",
    "        mol, substruct_mol = delete_substructs(mol, matched_atom_maps)\n",
    "\n",
    "        # for reconstruction\n",
    "        all_bonds_removed_map2map.extend(bonds_removed)\n",
    "        placeholder_to_substruct_mol[curr_placeholder_map_num] = substruct_mol\n",
    "\n",
    "        # replacing substructure with placeholder\n",
    "        placeholder_atom = Chem.Atom('*')\n",
    "        placeholder_atom.SetAtomMapNum(curr_placeholder_map_num)\n",
    "        curr_placeholder_map_num += 1\n",
    "        placeholder_atom_id = mol.AddAtom(placeholder_atom)\n",
    "\n",
    "        # after DeleteSubstructs, atom indices will be changed but atom maps will be the same\n",
    "        # hence, we have to make use of atom map numbers after delete (as used in bonds_to_add_back)\n",
    "        for atom in mol.GetAtoms():\n",
    "            if atom.GetAtomMapNum() in bonds_to_add_back:\n",
    "                explicit_Hs = atom.GetNumExplicitHs()\n",
    "                mol.AddBond(placeholder_atom_id, atom.GetIdx(), bonds_to_add_back[atom.GetAtomMapNum()])\n",
    "                atom.SetNumExplicitHs(explicit_Hs - bonds_to_add_back[atom.GetAtomMapNum()])\n",
    "\n",
    "        match_tuple = mol.GetSubstructMatch(pattern)\n",
    "        # Possible improvement: use GetSubstructureMatches() and do one\n",
    "        # deletion for each match of the current maccs_smart.\n",
    "\n",
    "print(Chem.MolToSmiles(mol))"
   ]
  },
  {
   "cell_type": "code",
   "execution_count": 210,
   "metadata": {},
   "outputs": [
    {
     "data": {
      "text/plain": [
       "{999: <rdkit.Chem.rdchem.Mol at 0x199487e10d0>,\n",
       " 1000: <rdkit.Chem.rdchem.Mol at 0x1994860f670>}"
      ]
     },
     "execution_count": 210,
     "metadata": {},
     "output_type": "execute_result"
    }
   ],
   "source": [
    "placeholder_to_substruct_mol"
   ]
  },
  {
   "cell_type": "code",
   "execution_count": null,
   "metadata": {},
   "outputs": [],
   "source": []
  }
 ],
 "metadata": {
  "interpreter": {
   "hash": "634a298614d2229219ae4b4e1d68bdd1baf375b702ef1cd3fc0ea01cb98c34a8"
  },
  "kernelspec": {
   "display_name": "Python 3.6.13 ('nerf')",
   "language": "python",
   "name": "python3"
  },
  "language_info": {
   "codemirror_mode": {
    "name": "ipython",
    "version": 3
   },
   "file_extension": ".py",
   "mimetype": "text/x-python",
   "name": "python",
   "nbconvert_exporter": "python",
   "pygments_lexer": "ipython3",
   "version": "3.7.11"
  },
  "orig_nbformat": 4
 },
 "nbformat": 4,
 "nbformat_minor": 2
}
