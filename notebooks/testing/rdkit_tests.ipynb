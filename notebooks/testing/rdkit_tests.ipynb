{
 "cells": [
  {
   "cell_type": "code",
   "execution_count": 2,
   "metadata": {},
   "outputs": [],
   "source": [
    "from rdkit import Chem\n",
    "sma = \"c1ccccc1\" # benzene smarts\n",
    "patt = Chem.MolFromSmarts(sma)"
   ]
  },
  {
   "cell_type": "code",
   "execution_count": 3,
   "metadata": {},
   "outputs": [
    {
     "name": "stdout",
     "output_type": "stream",
     "text": [
      "[O:21]=[C:22]([OH:23])[c:24]1[cH:25][cH:26][c:27]([Cl:28])[cH:29][cH:30]1\n"
     ]
    }
   ],
   "source": [
    "smi = 'O=C(O)c1ccc(Cl)cc1' # Cl-Ph-COOH smiles\n",
    "mol = Chem.MolFromSmiles(smi)\n",
    "\n",
    "# add atom map indices\n",
    "for i, atom in enumerate(mol.GetAtoms()):\n",
    "    atom.SetAtomMapNum(i+21)\n",
    "\n",
    "print(Chem.MolToSmiles(mol))"
   ]
  },
  {
   "cell_type": "code",
   "execution_count": 4,
   "metadata": {},
   "outputs": [],
   "source": [
    "hit_ats = list(mol.GetSubstructMatch(patt))"
   ]
  },
  {
   "cell_type": "code",
   "execution_count": 5,
   "metadata": {},
   "outputs": [
    {
     "data": {
      "text/plain": [
       "[3, 4, 5, 6, 8, 9]"
      ]
     },
     "execution_count": 5,
     "metadata": {},
     "output_type": "execute_result"
    }
   ],
   "source": [
    "hit_ats\n"
   ]
  },
  {
   "cell_type": "code",
   "execution_count": 6,
   "metadata": {},
   "outputs": [],
   "source": [
    "from rdkit.Chem.Draw import rdMolDraw2D\n",
    "\n",
    "hit_bonds = []\n",
    "for bond in patt.GetBonds():\n",
    "   aid1 = hit_ats[bond.GetBeginAtomIdx()]\n",
    "   aid2 = hit_ats[bond.GetEndAtomIdx()]\n",
    "   hit_bonds.append(mol.GetBondBetweenAtoms(aid1,aid2).GetIdx())\n",
    "d = rdMolDraw2D.MolDraw2DSVG(500, 500) # or MolDraw2DCairo to get PNGs\n",
    "rdMolDraw2D.PrepareAndDrawMolecule(d, mol, highlightAtoms=hit_ats,\n",
    "                                   highlightBonds=hit_bonds)\n"
   ]
  },
  {
   "cell_type": "code",
   "execution_count": 15,
   "metadata": {},
   "outputs": [
    {
     "data": {
      "text/plain": [
       "0"
      ]
     },
     "execution_count": 15,
     "metadata": {},
     "output_type": "execute_result"
    }
   ],
   "source": [
    "a = Chem.Atom('*')\n",
    "a.SetAtomMapNum(261)\n",
    "a.GetAtomicNum()"
   ]
  },
  {
   "cell_type": "code",
   "execution_count": 22,
   "metadata": {},
   "outputs": [
    {
     "name": "stdout",
     "output_type": "stream",
     "text": [
      "0\n"
     ]
    }
   ],
   "source": []
  },
  {
   "cell_type": "code",
   "execution_count": null,
   "metadata": {},
   "outputs": [],
   "source": []
  }
 ],
 "metadata": {
  "interpreter": {
   "hash": "634a298614d2229219ae4b4e1d68bdd1baf375b702ef1cd3fc0ea01cb98c34a8"
  },
  "kernelspec": {
   "display_name": "Python 3.6.13 ('nerf')",
   "language": "python",
   "name": "python3"
  },
  "language_info": {
   "codemirror_mode": {
    "name": "ipython",
    "version": 3
   },
   "file_extension": ".py",
   "mimetype": "text/x-python",
   "name": "python",
   "nbconvert_exporter": "python",
   "pygments_lexer": "ipython3",
   "version": "3.7.11"
  },
  "orig_nbformat": 4
 },
 "nbformat": 4,
 "nbformat_minor": 2
}
